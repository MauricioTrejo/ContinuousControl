{
 "cells": [
  {
   "cell_type": "markdown",
   "metadata": {},
   "source": [
    "# Continuous Control\n",
    "\n",
    "\n",
    "### Introduction\n",
    "\n",
    "In this project we try to move a double-jointed arm to target locations with a reward of +0.1 for each step that the agent's hand is in the goal location.\n",
    "\n",
    "![IMAGE ALT TEXT](reacher.gif)\n",
    "\n",
    "The space consists of 33 variables corresponding to position, rotation, velocity and angular velocities of the arm. Every entry in the action vector should be a number between -1 and 1.\n",
    "\n",
    "The goal of each agent is to keep its position at the target location for as many time steps as possible.\n",
    "\n",
    "There are 2 versions of the environment, the first has 1 agent and the second has 20 agents. To solve the environment in the first version you must reach an average score of +30 while for the second version, the average score of the 20 agents must be +30 over 100 episodes.\n",
    "\n",
    "### 1. Start the Environment\n",
    "\n",
    "Installing necessary packages"
   ]
  },
  {
   "cell_type": "code",
   "execution_count": 1,
   "metadata": {},
   "outputs": [
    {
     "name": "stdout",
     "output_type": "stream",
     "text": [
      "\u001b[31mtensorflow 1.7.1 has requirement numpy>=1.13.3, but you'll have numpy 1.12.1 which is incompatible.\u001b[0m\r\n",
      "\u001b[31mipython 6.5.0 has requirement prompt-toolkit<2.0.0,>=1.0.15, but you'll have prompt-toolkit 3.0.8 which is incompatible.\u001b[0m\r\n"
     ]
    }
   ],
   "source": [
    "!pip -q install ./python"
   ]
  },
  {
   "cell_type": "markdown",
   "metadata": {},
   "source": [
    "Loading necessary packages"
   ]
  },
  {
   "cell_type": "code",
   "execution_count": 2,
   "metadata": {},
   "outputs": [],
   "source": [
    "import torch\n",
    "import numpy as np\n",
    "\n",
    "from collections import deque\n",
    "import matplotlib.pyplot as plt\n",
    "%matplotlib inline\n",
    "\n",
    "from agent import Agent\n",
    "\n",
    "from unityagents import UnityEnvironment"
   ]
  },
  {
   "cell_type": "markdown",
   "metadata": {},
   "source": [
    "The environments corresponding to both versions of the environment are already saved and can be accessed at the file paths provided below.  \n",
    "\n",
    "Please select one of the two options below for loading the environment."
   ]
  },
  {
   "cell_type": "code",
   "execution_count": 3,
   "metadata": {},
   "outputs": [
    {
     "name": "stderr",
     "output_type": "stream",
     "text": [
      "INFO:unityagents:\n",
      "'Academy' started successfully!\n",
      "Unity Academy name: Academy\n",
      "        Number of Brains: 1\n",
      "        Number of External Brains : 1\n",
      "        Lesson number : 0\n",
      "        Reset Parameters :\n",
      "\t\tgoal_speed -> 1.0\n",
      "\t\tgoal_size -> 5.0\n",
      "Unity brain name: ReacherBrain\n",
      "        Number of Visual Observations (per agent): 0\n",
      "        Vector Observation space type: continuous\n",
      "        Vector Observation space size (per agent): 33\n",
      "        Number of stacked Vector Observation: 1\n",
      "        Vector Action space type: continuous\n",
      "        Vector Action space size (per agent): 4\n",
      "        Vector Action descriptions: , , , \n"
     ]
    }
   ],
   "source": [
    "from unityagents import UnityEnvironment\n",
    "import numpy as np\n",
    "\n",
    "# select this option to load version 1 (with a single agent) of the environment\n",
    "#env = UnityEnvironment(file_name='/data/Reacher_One_Linux_NoVis/Reacher_One_Linux_NoVis.x86_64')\n",
    "\n",
    "# select this option to load version 2 (with 20 agents) of the environment\n",
    "env = UnityEnvironment(file_name='/data/Reacher_Linux_NoVis/Reacher.x86_64')"
   ]
  },
  {
   "cell_type": "markdown",
   "metadata": {},
   "source": [
    "Environments contain **_brains_** which are responsible for deciding the actions of their associated agents. Here we check for the first brain available, and set it as the default brain we will be controlling from Python."
   ]
  },
  {
   "cell_type": "code",
   "execution_count": 4,
   "metadata": {},
   "outputs": [],
   "source": [
    "# get the default brain\n",
    "brain_name = env.brain_names[0]\n",
    "brain = env.brains[brain_name]"
   ]
  },
  {
   "cell_type": "markdown",
   "metadata": {},
   "source": [
    "### 2. Examine the State and Action Spaces\n",
    "\n",
    "Obtain information about the environment"
   ]
  },
  {
   "cell_type": "code",
   "execution_count": 5,
   "metadata": {},
   "outputs": [
    {
     "name": "stdout",
     "output_type": "stream",
     "text": [
      "Number of agents: 20\n",
      "Size of each action: 4\n",
      "There are 20 agents. Each observes a state with length: 33\n",
      "The state for the first agent looks like: [  0.00000000e+00  -4.00000000e+00   0.00000000e+00   1.00000000e+00\n",
      "  -0.00000000e+00  -0.00000000e+00  -4.37113883e-08   0.00000000e+00\n",
      "   0.00000000e+00   0.00000000e+00   0.00000000e+00   0.00000000e+00\n",
      "   0.00000000e+00   0.00000000e+00  -1.00000000e+01   0.00000000e+00\n",
      "   1.00000000e+00  -0.00000000e+00  -0.00000000e+00  -4.37113883e-08\n",
      "   0.00000000e+00   0.00000000e+00   0.00000000e+00   0.00000000e+00\n",
      "   0.00000000e+00   0.00000000e+00   5.75471878e+00  -1.00000000e+00\n",
      "   5.55726624e+00   0.00000000e+00   1.00000000e+00   0.00000000e+00\n",
      "  -1.68164849e-01]\n"
     ]
    }
   ],
   "source": [
    "# reset the environment\n",
    "env_info = env.reset(train_mode=True)[brain_name]\n",
    "\n",
    "# number of agents\n",
    "num_agents = len(env_info.agents)\n",
    "print('Number of agents:', num_agents)\n",
    "\n",
    "# size of each action\n",
    "action_size = brain.vector_action_space_size\n",
    "print('Size of each action:', action_size)\n",
    "\n",
    "# examine the state space \n",
    "states = env_info.vector_observations\n",
    "state_size = states.shape[1]\n",
    "print('There are {} agents. Each observes a state with length: {}'.format(states.shape[0], state_size))\n",
    "print('The state for the first agent looks like:', states[0])"
   ]
  },
  {
   "cell_type": "markdown",
   "metadata": {},
   "source": [
    "### 3. Behavior of untrained agent\n"
   ]
  },
  {
   "cell_type": "code",
   "execution_count": 6,
   "metadata": {},
   "outputs": [
    {
     "name": "stdout",
     "output_type": "stream",
     "text": [
      "Total score (averaged over agents) this episode: 0.11399999745190144\n"
     ]
    }
   ],
   "source": [
    "env_info = env.reset(train_mode=False)[brain_name]     # Reset the environment    \n",
    "states = env_info.vector_observations                  # Get the current state (for each agent)\n",
    "scores = np.zeros(num_agents)                          # Initialize the score (for each agent)\n",
    "while True:\n",
    "    actions = np.random.randn(num_agents, action_size) # Select an action (for each agent)\n",
    "    actions = np.clip(actions, -1, 1)                  # All actions between -1 and 1\n",
    "    env_info = env.step(actions)[brain_name]           # Send all actions to tne environment\n",
    "    next_states = env_info.vector_observations         # Get next state (for each agent)\n",
    "    rewards = env_info.rewards                         # Get reward (for each agent)\n",
    "    dones = env_info.local_done                        # See if episode finished\n",
    "    scores += env_info.rewards                         # Update the score (for each agent)\n",
    "    states = next_states                               # Roll over states to next time step\n",
    "    if np.any(dones):                                  # Exit loop if episode finished\n",
    "        break\n",
    "print('Total score (averaged over agents) this episode: {}'.format(np.mean(scores)))"
   ]
  },
  {
   "cell_type": "markdown",
   "metadata": {},
   "source": [
    "### 4. Training the agent\n",
    "\n",
    "The agent and model were based on the one's [here](https://github.com/udacity/deep-reinforcement-learning/tree/master/ddpg-pendulum) with slight changes for it to work with 20 agents.\n",
    "\n",
    "Is important to note that the strategy was to implement an agent that takes 20 different actions which are passed to the environment as the action of 20 agents, those actions are saved one by one in the replay buffer and then sampled when there are enough experiences to learn (we used a threshold of 128 experiences to start learning).\n",
    "\n",
    "##### Hyperparameters\n",
    "\n",
    "To find the best hyperparameters we started to evaluate the behavior of learning with different batch sizes which proved to be an effective way to reach the goal.\n",
    "\n",
    "| Buffer size | Batch size | Gamma |  Tau  | LR Actor | LR Critic | Max Avg Score |\n",
    "|-------------|------------|-------|-------|----------|-----------|---------------|\n",
    "|   10,000    |     128    |  0.99 | 0.001 |  0.0001  |   0.001   |     10.48     |\n",
    "|   10,000    |     256    |  0.99 | 0.001 |  0.0001  |   0.001   |      9.92     |\n",
    "|   10,000    |     512    |  0.99 | 0.001 |  0.0001  |   0.001   |     38.02     |\n",
    "\n",
    "Is interesting to note that doubling the batch size gives worst performance, but quadrupling it results in a quite good performance. \n",
    "\n",
    "After repeating the exercise with a batch size of 512 we found that the learning process can be unstable depending on the initial conditions of the agent.\n",
    "\n",
    "\n",
    "##### Actor model\n",
    "\n",
    "In the case of the actor, we used 2 fully connected hidden layers with 128 and 64 units each and ReLU as activation function except for the output layer where we used a tanh activation function.\n",
    "\n",
    "We had 33 inputs (state size) as input to the network and 4 (action size) as output neurons.\n",
    "\n",
    "##### Critic model\n",
    "\n",
    "For the critic, we used 2 fully connected hidden layers with 132 (128 + number of actions) and 64 units each and ReLU as activation function.\n",
    "\n",
    "We had 33 inputs (state size) as input to the network and 1 neuron (for the Q value estiamtion) as output."
   ]
  },
  {
   "cell_type": "code",
   "execution_count": 7,
   "metadata": {},
   "outputs": [],
   "source": [
    "def ddpg(n_episodes = 250, max_t = 1000, print_every = 10):\n",
    "    scores_deque = deque(maxlen=print_every)\n",
    "    scores = []\n",
    "    for i_episode in range(1, n_episodes+1):\n",
    "        env_info = env.reset(train_mode=True)[brain_name]   # Reset the environment  \n",
    "        states = env_info.vector_observations               # Get the current state\n",
    "        scores_agents = np.zeros(num_agents)\n",
    "        score = 0\n",
    "        agent.reset()\n",
    "        for t in range(max_t):\n",
    "            actions = agent.act(states)                               # Select an action\n",
    "            env_info = env.step(actions)[brain_name]                  # Send the action to tne environment\n",
    "            next_states = env_info.vector_observations                # Get the next state\n",
    "            rewards = env_info.rewards                                # Get the reward    \n",
    "            dones = env_info.local_done                               # See if episode has finished\n",
    "            agent.step(states, actions, rewards, next_states, dones)  # Step and learning process\n",
    "            scores_agents += rewards\n",
    "            states = next_states\n",
    "            if np.any(dones):\n",
    "                break \n",
    "        score = np.mean(scores_agents)\n",
    "        scores_deque.append(score)\n",
    "        scores.append(score)\n",
    "        print('\\rEpisode {}\\tAverage Score: {:.2f}'.format(i_episode, np.mean(scores_deque)), end=\"\")\n",
    "        torch.save(agent.actor_local.state_dict(), 'checkpoint_actor.pth')\n",
    "        torch.save(agent.critic_local.state_dict(), 'checkpoint_critic.pth')\n",
    "        if i_episode % print_every == 0:\n",
    "            print('\\rEpisode {}\\tAverage Score: {:.2f}'.format(i_episode, np.mean(scores_deque)))\n",
    "            \n",
    "    return scores"
   ]
  },
  {
   "cell_type": "code",
   "execution_count": 8,
   "metadata": {},
   "outputs": [
    {
     "name": "stdout",
     "output_type": "stream",
     "text": [
      "Episode 10\tAverage Score: 0.88\n",
      "Episode 20\tAverage Score: 3.08\n",
      "Episode 30\tAverage Score: 8.65\n",
      "Episode 40\tAverage Score: 11.44\n",
      "Episode 50\tAverage Score: 14.66\n",
      "Episode 60\tAverage Score: 18.01\n",
      "Episode 70\tAverage Score: 24.50\n",
      "Episode 80\tAverage Score: 26.73\n",
      "Episode 90\tAverage Score: 27.15\n",
      "Episode 100\tAverage Score: 28.47\n",
      "Episode 110\tAverage Score: 32.46\n",
      "Episode 120\tAverage Score: 34.79\n",
      "Episode 130\tAverage Score: 36.02\n",
      "Episode 140\tAverage Score: 36.37\n",
      "Episode 150\tAverage Score: 36.67\n",
      "Episode 160\tAverage Score: 36.38\n",
      "Episode 170\tAverage Score: 36.44\n",
      "Episode 180\tAverage Score: 36.58\n",
      "Episode 190\tAverage Score: 37.16\n",
      "Episode 200\tAverage Score: 36.71\n",
      "Episode 210\tAverage Score: 36.45\n",
      "Episode 220\tAverage Score: 37.65\n",
      "Episode 230\tAverage Score: 37.69\n",
      "Episode 240\tAverage Score: 38.02\n",
      "Episode 250\tAverage Score: 37.28\n"
     ]
    },
    {
     "data": {
      "image/png": "[encoded data removed]",
      "text/plain": [
       "<matplotlib.figure.Figure at 0x7f9c4c3ffa90>"
      ]
     },
     "metadata": {
      "needs_background": "light"
     },
     "output_type": "display_data"
    }
   ],
   "source": [
    "agent = Agent(state_size = state_size, action_size = action_size, random_seed = 17)\n",
    "scores = ddpg()\n",
    "\n",
    "fig = plt.figure()\n",
    "ax = fig.add_subplot(111)\n",
    "plt.plot(np.arange(1, len(scores)+1), scores)\n",
    "plt.ylabel('Score')\n",
    "plt.xlabel('Episode #')\n",
    "plt.show()"
   ]
  },
  {
   "cell_type": "markdown",
   "metadata": {},
   "source": [
    "From the graph above, we can see that the average score of the agents is above +30 from episode 110 till the end which completes the 100 episodes"
   ]
  },
  {
   "cell_type": "markdown",
   "metadata": {},
   "source": [
    "### 5. Behavior of trained agent"
   ]
  },
  {
   "cell_type": "code",
   "execution_count": 9,
   "metadata": {},
   "outputs": [
    {
     "name": "stdout",
     "output_type": "stream",
     "text": [
      "Total score (averaged over agents) this episode: 38.42649914110079\n"
     ]
    }
   ],
   "source": [
    "env_info = env.reset(train_mode=False)[brain_name]     # Reset the environment    \n",
    "states = env_info.vector_observations                  # Get the current state (for each agent)\n",
    "scores = np.zeros(num_agents)                          # Initialize the score (for each agent)\n",
    "while True:\n",
    "    actions = agent.act(states)                        # Select an action (for each agent)\n",
    "    env_info = env.step(actions)[brain_name]           # Send all actions to tne environment\n",
    "    next_states = env_info.vector_observations         # Get next state (for each agent)\n",
    "    rewards = env_info.rewards                         # Get reward (for each agent)\n",
    "    dones = env_info.local_done                        # See if episode finished\n",
    "    scores += env_info.rewards                         # Update the score (for each agent)\n",
    "    states = next_states                               # Roll over states to next time step\n",
    "    if np.any(dones):                                  # Exit loop if episode finished\n",
    "        break\n",
    "print('Total score (averaged over agents) this episode: {}'.format(np.mean(scores)))"
   ]
  },
  {
   "cell_type": "code",
   "execution_count": 10,
   "metadata": {},
   "outputs": [],
   "source": [
    "env.close()"
   ]
  },
  {
   "cell_type": "markdown",
   "metadata": {},
   "source": [
    "### 6. Ideas for future work\n",
    "\n",
    "1. Use a different architecture for the actor and critic.\n",
    "2. While a deeper network might slow the learning process, it might be possible to maintain it or improve it with a deeper network and more time steps between each round of training."
   ]
  },
  {
   "cell_type": "code",
   "execution_count": null,
   "metadata": {},
   "outputs": [],
   "source": []
  }
 ],
 "metadata": {
  "kernelspec": {
   "display_name": "Python 3",
   "language": "python",
   "name": "python3"
  },
  "language_info": {
   "codemirror_mode": {
    "name": "ipython",
    "version": 3
   },
   "file_extension": ".py",
   "mimetype": "text/x-python",
   "name": "python",
   "nbconvert_exporter": "python",
   "pygments_lexer": "ipython3",
   "version": "3.6.3"
  }
 },
 "nbformat": 4,
 "nbformat_minor": 2
}
